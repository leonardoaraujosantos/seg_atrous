{
 "cells": [
  {
   "cell_type": "markdown",
   "metadata": {},
   "source": [
    "# Create Dataset"
   ]
  },
  {
   "cell_type": "code",
   "execution_count": 1,
   "metadata": {},
   "outputs": [],
   "source": [
    "from PIL import Image\n",
    "import numpy as np\n",
    "import rasterio\n",
    "import matplotlib.pyplot as plt\n",
    "import pickle\n",
    "import sat_utils\n",
    "import tifffile as tiff\n",
    "import os\n",
    "import natsort as ns\n",
    "\n",
    "folder_path='./data/images'"
   ]
  },
  {
   "cell_type": "code",
   "execution_count": null,
   "metadata": {},
   "outputs": [],
   "source": [
    "target = sat_utils.load_map_tiff('MUL-PanSharpen_AOI_5_Khartoum_img16_target.tif')\n",
    "input = sat_utils.load_map_tiff('MUL-PanSharpen_AOI_5_Khartoum_img16_input.tif')\n",
    "\n",
    "# Open same image with channels inverted\n",
    "input2 = tiff.imread('MUL-PanSharpen_AOI_5_Khartoum_img16_input.tif').astype(np.float32)\n",
    "\n",
    "print('input:', input.shape)\n",
    "print('input2:', input2.shape)\n",
    "print('target:', target.shape)\n",
    "\n",
    "plt.imshow(target[0,:,:])\n",
    "plt.title('Label');\n",
    "plt.show()\n",
    "\n",
    "plt.imshow(input[4,:,:])\n",
    "plt.title('Input');\n",
    "plt.show()\n",
    "\n",
    "print('input:', input.shape)\n",
    "print('target:', target.shape)"
   ]
  },
  {
   "cell_type": "markdown",
   "metadata": {},
   "source": [
    "#### Crop and Display"
   ]
  },
  {
   "cell_type": "code",
   "execution_count": null,
   "metadata": {},
   "outputs": [],
   "source": [
    "crop_target = sat_utils.crop_img(target,0,0,76,76)\n",
    "print('Original:',target.shape)\n",
    "print('Cropped:',crop_target.shape)\n",
    "print('Max target:', np.max(target))\n",
    "print('Min target:', np.min(target))\n",
    "plt.imshow(crop_target[0,:,:])\n",
    "plt.show()\n",
    "\n",
    "#crop_input = utils.crop_img(input,0,0,76,76)\n",
    "#crop_input = utils.get_rgb(input2)\n",
    "\n",
    "#rgb = utils.get_rgb(input2, channelsFirst=False)\n",
    "#rgb = np.dstack((input2[:, :, 4], input2[:, :, 2], input2[:, :, 1]))\n",
    "\n",
    "crop_input2 = sat_utils.crop_img(input2,0,0,76,76, channelsFirst=False)\n",
    "rgb2 = sat_utils.get_rgb(crop_input2, channelsFirst=False)\n",
    "rgb_norm2 = sat_utils.img_minmax_norm(rgb2, channelsFirst=False)\n",
    "plt.imshow( rgb_norm2 )\n",
    "plt.show()\n",
    "\n",
    "crop_input1 = sat_utils.crop_img(input,0,0,76,76, channelsFirst=True)\n",
    "rgb1 = sat_utils.get_rgb(crop_input1, channelsFirst=True)\n",
    "rgb_norm1 = sat_utils.img_minmax_norm(rgb1, channelsFirst=True)\n",
    "rgb_norm1 = np.moveaxis(rgb_norm1, 0, 2)\n",
    "plt.imshow( rgb_norm1 )\n",
    "plt.show()\n",
    "print('Original:',input.shape)\n",
    "print('Cropped:',crop_input1.shape)"
   ]
  },
  {
   "cell_type": "code",
   "execution_count": null,
   "metadata": {},
   "outputs": [],
   "source": [
    "dict_input, dict_output = sat_utils.crop_blocks(input, target, display=True, earlyStop=39)"
   ]
  },
  {
   "cell_type": "markdown",
   "metadata": {},
   "source": [
    "### Save images to Pickle"
   ]
  },
  {
   "cell_type": "code",
   "execution_count": null,
   "metadata": {},
   "outputs": [],
   "source": [
    "with open('./data/input.pickle', 'wb') as handle:\n",
    "    pickle.dump(dict_input, handle)\n",
    "\n",
    "with open('./data/label.pickle', 'wb') as handle:\n",
    "    pickle.dump(dict_output, handle)\n",
    "    "
   ]
  },
  {
   "cell_type": "markdown",
   "metadata": {},
   "source": [
    "#### Get List of files"
   ]
  },
  {
   "cell_type": "code",
   "execution_count": 2,
   "metadata": {},
   "outputs": [],
   "source": [
    "input_paths_dict={}\n",
    "target_paths_dict={}\n",
    "for root, dirs, files in os.walk(folder_path):\n",
    "        files = ns.natsorted(files)\n",
    "        for file in files[0::]:\n",
    "            img_path = os.path.join(root, file)\n",
    "            parts = os.path.splitext(file)[0].split('_')\n",
    "            img_id = parts[-2]\n",
    "                       \n",
    "            if parts[-1]==\"input\":\n",
    "                input_paths_dict[img_id] = img_path\n",
    "            if parts[-1]==\"target\":\n",
    "                target_paths_dict[img_id] = img_path"
   ]
  },
  {
   "cell_type": "markdown",
   "metadata": {},
   "source": [
    "#### Populate Dictionaries"
   ]
  },
  {
   "cell_type": "code",
   "execution_count": 3,
   "metadata": {},
   "outputs": [
    {
     "name": "stdout",
     "output_type": "stream",
     "text": [
      "Elements added: 40\n",
      "Elements added: 79\n",
      "Elements added: 118\n",
      "Elements added: 157\n",
      "Elements added: 196\n",
      "Elements added: 235\n",
      "Elements added: 274\n",
      "Elements added: 313\n",
      "Elements added: 352\n",
      "Elements added: 391\n",
      "Elements added: 430\n",
      "Elements added: 469\n",
      "Elements added: 508\n",
      "Elements added: 547\n",
      "Elements added: 586\n",
      "Elements added: 625\n",
      "Elements added: 664\n",
      "Elements added: 703\n",
      "Elements added: 742\n",
      "Elements added: 781\n",
      "Elements added: 820\n",
      "Elements added: 859\n",
      "Elements added: 898\n",
      "Elements added: 937\n",
      "Elements added: 976\n",
      "Elements added: 1015\n",
      "Elements added: 1054\n",
      "Elements added: 1093\n",
      "Elements added: 1132\n",
      "Elements added: 1171\n",
      "Elements added: 1210\n",
      "Elements added: 1249\n",
      "Elements added: 1288\n",
      "Elements added: 1327\n",
      "Elements added: 1366\n",
      "Elements added: 1405\n",
      "Elements added: 1444\n",
      "Elements added: 1483\n",
      "Elements added: 1522\n",
      "Elements added: 1561\n",
      "Elements added: 1600\n",
      "Elements added: 1639\n",
      "Elements added: 1678\n",
      "Elements added: 1717\n",
      "Elements added: 1756\n",
      "Elements added: 1795\n",
      "Elements added: 1834\n",
      "Elements added: 1873\n",
      "Elements added: 1912\n",
      "Elements added: 1951\n",
      "Elements added: 1990\n",
      "Elements added: 2029\n",
      "Elements added: 2068\n",
      "Elements added: 2107\n",
      "Elements added: 2146\n",
      "Elements added: 2185\n",
      "Elements added: 2224\n",
      "Elements added: 2263\n",
      "Elements added: 2302\n",
      "Elements added: 2341\n",
      "Elements added: 2380\n",
      "Elements added: 2419\n",
      "Elements added: 2458\n",
      "Elements added: 2497\n",
      "Elements added: 2536\n",
      "Elements added: 2575\n",
      "Elements added: 2614\n",
      "Elements added: 2653\n",
      "Elements added: 2692\n",
      "Elements added: 2731\n",
      "Elements added: 2770\n",
      "Elements added: 2809\n",
      "Elements added: 2848\n",
      "Elements added: 2887\n",
      "Elements added: 2926\n",
      "Elements added: 2965\n",
      "Elements added: 3004\n",
      "Elements added: 3043\n",
      "Elements added: 3082\n",
      "Elements added: 3121\n",
      "Elements added: 3160\n",
      "Elements added: 3199\n",
      "Elements added: 3238\n",
      "Elements added: 3277\n",
      "Elements added: 3316\n",
      "Elements added: 3355\n",
      "Elements added: 3394\n",
      "Elements added: 3433\n",
      "Elements added: 3472\n",
      "Elements added: 3511\n",
      "Elements added: 3550\n",
      "Elements added: 3589\n",
      "Elements added: 3628\n",
      "Elements added: 3667\n",
      "Elements added: 3706\n",
      "Elements added: 3745\n",
      "Elements added: 3784\n",
      "Elements added: 3823\n",
      "Elements added: 3862\n",
      "Elements added: 3901\n",
      "Elements added: 3940\n",
      "Elements added: 3979\n",
      "Elements added: 4018\n",
      "Elements added: 4057\n",
      "Elements added: 4096\n",
      "Elements added: 4135\n",
      "Elements added: 4174\n",
      "Elements added: 4213\n",
      "Elements added: 4252\n",
      "Elements added: 4291\n",
      "Elements added: 4330\n",
      "Elements added: 4369\n",
      "Elements added: 4408\n",
      "Elements added: 4447\n",
      "Elements added: 4486\n",
      "Elements added: 4525\n",
      "Elements added: 4564\n",
      "Elements added: 4603\n",
      "Elements added: 4642\n",
      "Elements added: 4681\n",
      "Elements added: 4720\n",
      "Elements added: 4759\n",
      "Elements added: 4798\n",
      "Elements added: 4837\n",
      "Elements added: 4876\n",
      "Elements added: 4915\n",
      "Elements added: 4954\n",
      "Elements added: 4993\n",
      "Elements added: 5032\n",
      "Elements added: 5071\n",
      "Elements added: 5110\n",
      "Elements added: 5149\n",
      "Elements added: 5188\n",
      "Elements added: 5227\n",
      "Elements added: 5266\n",
      "Elements added: 5305\n",
      "Elements added: 5344\n",
      "Elements added: 5383\n",
      "Elements added: 5422\n",
      "Elements added: 5461\n",
      "Elements added: 5500\n",
      "Elements added: 5539\n",
      "Elements added: 5578\n",
      "Elements added: 5617\n",
      "Elements added: 5656\n",
      "Elements added: 5695\n",
      "Elements added: 5734\n",
      "Elements added: 5773\n",
      "Elements added: 5812\n",
      "Elements added: 5851\n",
      "Elements added: 5890\n",
      "Elements added: 5929\n",
      "Elements added: 5968\n",
      "Elements added: 6007\n",
      "Elements added: 6046\n",
      "Elements added: 6085\n",
      "Elements added: 6124\n"
     ]
    }
   ],
   "source": [
    "all_input_dict={}\n",
    "all_target_dct={}\n",
    "count=0\n",
    "for key, value in input_paths_dict.items():\n",
    "    \n",
    "    input = sat_utils.load_map_tiff(value)\n",
    "    target = sat_utils.load_map_tiff(target_paths_dict[key])\n",
    "    \n",
    "    dict_input, dict_output = sat_utils.crop_blocks(input, target, display=False, earlyStop=39, offset=count*39)\n",
    "    all_input_dict.update(dict_input)\n",
    "    all_target_dct.update(dict_output)\n",
    "    print('Elements added:', len(all_input_dict))\n",
    "    count+=1"
   ]
  },
  {
   "cell_type": "markdown",
   "metadata": {},
   "source": [
    "#### Save Pickle for list of files"
   ]
  },
  {
   "cell_type": "code",
   "execution_count": 14,
   "metadata": {},
   "outputs": [],
   "source": [
    "with open('./data/all_input.pickle', 'wb') as handle:\n",
    "    pickle.dump(all_input_dict, handle)\n",
    "\n",
    "with open('./data/all_label.pickle', 'wb') as handle:\n",
    "    pickle.dump(all_target_dct, handle)"
   ]
  },
  {
   "cell_type": "markdown",
   "metadata": {},
   "source": [
    "#### Clean dataset"
   ]
  },
  {
   "cell_type": "code",
   "execution_count": 10,
   "metadata": {},
   "outputs": [],
   "source": [
    "def clean_data(in_dict, lbl_dict, min_perc=3.0):\n",
    "    list_delete = []\n",
    "    for key, val in all_target_dct.items():\n",
    "        perc = sat_utils.get_info_percent(val[0,:,:])\n",
    "        if perc < min_perc:\n",
    "            list_delete.append(key)\n",
    "    \n",
    "    for key in list_delete:\n",
    "        del in_dict[key]\n",
    "        del lbl_dict[key]\n",
    "    \n",
    "    return in_dict, lbl_dict"
   ]
  },
  {
   "cell_type": "code",
   "execution_count": 12,
   "metadata": {},
   "outputs": [],
   "source": [
    "in_dict, lbl_dict = sat_utils.clean_data(all_input_dict, all_target_dct)"
   ]
  },
  {
   "cell_type": "code",
   "execution_count": null,
   "metadata": {},
   "outputs": [],
   "source": []
  }
 ],
 "metadata": {
  "kernelspec": {
   "display_name": "Python 3",
   "language": "python",
   "name": "python3"
  },
  "language_info": {
   "codemirror_mode": {
    "name": "ipython",
    "version": 3
   },
   "file_extension": ".py",
   "mimetype": "text/x-python",
   "name": "python",
   "nbconvert_exporter": "python",
   "pygments_lexer": "ipython3",
   "version": "3.7.3"
  }
 },
 "nbformat": 4,
 "nbformat_minor": 2
}
