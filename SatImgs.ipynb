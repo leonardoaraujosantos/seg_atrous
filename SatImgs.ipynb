{
 "cells": [
  {
   "cell_type": "markdown",
   "metadata": {},
   "source": [
    "# Create Dataset"
   ]
  },
  {
   "cell_type": "code",
   "execution_count": null,
   "metadata": {},
   "outputs": [],
   "source": [
    "from PIL import Image\n",
    "import numpy as np\n",
    "import rasterio\n",
    "import matplotlib.pyplot as plt\n",
    "import pickle\n",
    "import sat_utils\n",
    "import tifffile as tiff"
   ]
  },
  {
   "cell_type": "code",
   "execution_count": null,
   "metadata": {},
   "outputs": [],
   "source": [
    "target = sat_utils.load_map_tiff('MUL-PanSharpen_AOI_5_Khartoum_img16_target.tif')\n",
    "input = sat_utils.load_map_tiff('MUL-PanSharpen_AOI_5_Khartoum_img16_input.tif')\n",
    "\n",
    "# Open same image with channels inverted\n",
    "input2 = tiff.imread('MUL-PanSharpen_AOI_5_Khartoum_img16_input.tif').astype(np.float32)\n",
    "\n",
    "print('input:', input.shape)\n",
    "print('input2:', input2.shape)\n",
    "print('target:', target.shape)\n",
    "\n",
    "plt.imshow(target[0,:,:])\n",
    "plt.title('Label');\n",
    "plt.show()\n",
    "\n",
    "plt.imshow(input[4,:,:])\n",
    "plt.title('Input');\n",
    "plt.show()\n",
    "\n",
    "print('input:', input.shape)\n",
    "print('target:', target.shape)"
   ]
  },
  {
   "cell_type": "markdown",
   "metadata": {},
   "source": [
    "#### Crop and Display"
   ]
  },
  {
   "cell_type": "code",
   "execution_count": null,
   "metadata": {},
   "outputs": [],
   "source": [
    "crop_target = sat_utils.crop_img(target,0,0,76,76)\n",
    "print('Original:',target.shape)\n",
    "print('Cropped:',crop_target.shape)\n",
    "print('Max target:', np.max(target))\n",
    "print('Min target:', np.min(target))\n",
    "plt.imshow(crop_target[0,:,:])\n",
    "plt.show()\n",
    "\n",
    "#crop_input = utils.crop_img(input,0,0,76,76)\n",
    "#crop_input = utils.get_rgb(input2)\n",
    "\n",
    "#rgb = utils.get_rgb(input2, channelsFirst=False)\n",
    "#rgb = np.dstack((input2[:, :, 4], input2[:, :, 2], input2[:, :, 1]))\n",
    "\n",
    "crop_input2 = sat_utils.crop_img(input2,0,0,76,76, channelsFirst=False)\n",
    "rgb2 = sat_utils.get_rgb(crop_input2, channelsFirst=False)\n",
    "rgb_norm2 = sat_utils.img_minmax_norm(rgb2, channelsFirst=False)\n",
    "plt.imshow( rgb_norm2 )\n",
    "plt.show()\n",
    "\n",
    "crop_input1 = sat_utils.crop_img(input,0,0,76,76, channelsFirst=True)\n",
    "rgb1 = sat_utils.get_rgb(crop_input1, channelsFirst=True)\n",
    "rgb_norm1 = sat_utils.img_minmax_norm(rgb1, channelsFirst=True)\n",
    "rgb_norm1 = np.moveaxis(rgb_norm1, 0, 2)\n",
    "plt.imshow( rgb_norm1 )\n",
    "plt.show()\n",
    "print('Original:',input.shape)\n",
    "print('Cropped:',crop_input1.shape)"
   ]
  },
  {
   "cell_type": "code",
   "execution_count": null,
   "metadata": {},
   "outputs": [],
   "source": [
    "dict_input, dict_output = sat_utils.crop_blocks(input, target, display=True, earlyStop=39)"
   ]
  },
  {
   "cell_type": "markdown",
   "metadata": {},
   "source": [
    "### Save images to Pickle"
   ]
  },
  {
   "cell_type": "code",
   "execution_count": null,
   "metadata": {},
   "outputs": [],
   "source": [
    "with open('./data/input.pickle', 'wb') as handle:\n",
    "    pickle.dump(dict_input, handle)\n",
    "\n",
    "with open('./data/label.pickle', 'wb') as handle:\n",
    "    pickle.dump(dict_output, handle)\n",
    "    "
   ]
  },
  {
   "cell_type": "code",
   "execution_count": null,
   "metadata": {},
   "outputs": [],
   "source": [
    "import os\n",
    "import natsort as ns\n",
    "import rasterio\n",
    "import numpy as np\n",
    "import sat_utils\n",
    "import pickle\n",
    "\n",
    "folder_path='./data/images'\n",
    "\n",
    "\n",
    "input_paths_dict={}\n",
    "target_paths_dict={}\n",
    "for root, dirs, files in os.walk(folder_path):\n",
    "        files = ns.natsorted(files)\n",
    "        for file in files[0::]:\n",
    "            img_path = os.path.join(root, file)\n",
    "            parts = os.path.splitext(file)[0].split('_')\n",
    "            img_id = parts[-2]\n",
    "                       \n",
    "            if parts[-1]==\"input\":\n",
    "                input_paths_dict[img_id] = img_path\n",
    "            if parts[-1]==\"target\":\n",
    "                target_paths_dict[img_id] = img_path\n",
    "            \n",
    "all_input_dict={}\n",
    "all_target_dct={}\n",
    "count=0\n",
    "for key, value in input_paths_dict.items():\n",
    "    \n",
    "    input = sat_utils.load_map_tiff(value)\n",
    "    target = sat_utils.load_map_tiff(target_paths_dict[key])\n",
    "    print(input.shape)\n",
    "    print(input.max())\n",
    "\n",
    "    print(target.shape)\n",
    "    print(target.max())\n",
    "    \n",
    "    dict_input, dict_output = sat_utils.crop_blocks(input, target, display=False, earlyStop=3, offset=count*3)\n",
    "    all_input_dict.update(dict_input)\n",
    "    all_target_dct.update(dict_output)\n",
    "    print(len(all_input_dict))\n",
    "    count+=1\n",
    "\n",
    "    \n",
    "with open('./data/all_input.pickle', 'wb') as handle:\n",
    "    pickle.dump(all_input_dict, handle)\n",
    "\n",
    "with open('./data/all_label.pickle', 'wb') as handle:\n",
    "    pickle.dump(all_target_dct, handle)\n",
    "    \n",
    "print(len(all_input_dict))\n",
    "print(len(all_target_dct))"
   ]
  },
  {
   "cell_type": "code",
   "execution_count": null,
   "metadata": {},
   "outputs": [],
   "source": []
  }
 ],
 "metadata": {
  "kernelspec": {
   "display_name": "Python 3",
   "language": "python",
   "name": "python3"
  },
  "language_info": {
   "codemirror_mode": {
    "name": "ipython",
    "version": 3
   },
   "file_extension": ".py",
   "mimetype": "text/x-python",
   "name": "python",
   "nbconvert_exporter": "python",
   "pygments_lexer": "ipython3",
   "version": "3.6.7"
  }
 },
 "nbformat": 4,
 "nbformat_minor": 2
}
