{
 "cells": [
  {
   "cell_type": "markdown",
   "metadata": {},
   "source": [
    "# Train Segmentation with Atrous Convolution\n",
    "\n",
    "\n",
    "#### References\n",
    "* https://arxiv.org/pdf/1709.00179.pdf\n",
    "* https://medium.com/beyondminds/a-simple-guide-to-semantic-segmentation-effcf83e7e54\n",
    "* https://medium.com/dair-ai/medical-imaging-analysis-mri-cnn-pytorch-4877e64e7303\n",
    "* https://medium.com/udacity-pytorch-challengers/a-brief-overview-of-loss-functions-in-pytorch-c0ddb78068f7\n",
    "* https://github.com/kevinzakka/pytorch-goodies/blob/master/losses.py"
   ]
  },
  {
   "cell_type": "code",
   "execution_count": 1,
   "metadata": {},
   "outputs": [
    {
     "name": "stdout",
     "output_type": "stream",
     "text": [
      "Device: cuda:1\n"
     ]
    }
   ],
   "source": [
    "import sat_utils\n",
    "import numpy as np\n",
    "import pickle\n",
    "from ipywidgets import interact, interactive, fixed, interact_manual\n",
    "import ipywidgets as widgets\n",
    "from tqdm import tqdm\n",
    "from sklearn.model_selection import train_test_split\n",
    "import matplotlib.pyplot as plt\n",
    "from random import randint\n",
    "\n",
    "# Pytorch stuff\n",
    "import torch.nn as nn\n",
    "import torch.nn.functional as F\n",
    "import numpy as np\n",
    "import torch\n",
    "import torch.utils.data as utils\n",
    "from torchvision.utils import make_grid\n",
    "from torch.utils.tensorboard import SummaryWriter\n",
    "from torch.optim import lr_scheduler\n",
    "\n",
    "from skimage.filters import threshold_adaptive, threshold_otsu, threshold_local\n",
    "\n",
    "device = torch.device('cuda:1' if torch.cuda.is_available() else 'cpu')\n",
    "print('Device:', device)\n",
    "\n",
    "lr=0.001 #0.001\n",
    "l2_norm=0.0000001\n",
    "gamma=0.1\n",
    "batch_size = 20 #20\n",
    "num_epochs = 1000\n",
    "step_size = 200"
   ]
  },
  {
   "cell_type": "markdown",
   "metadata": {},
   "source": [
    "#### Load Data from pickle (Bad not scalable) and create data loader"
   ]
  },
  {
   "cell_type": "code",
   "execution_count": 2,
   "metadata": {},
   "outputs": [],
   "source": [
    "X = sat_utils.read_pickle_data('./data/input.pickle')\n",
    "Y = sat_utils.read_pickle_data('./data/label.pickle')\n",
    "tensor_x = torch.stack([torch.Tensor(sat_utils.get_rgb(x)) for x in X.values()])\n",
    "#tensor_y = torch.stack([torch.Tensor(np.expand_dims(x[0,:,:],axis=0)).type(torch.LongTensor) for x in Y.values()])\n",
    "#tensor_y = torch.stack([torch.Tensor(np.expand_dims(x[0,:,:],axis=0)) for x in Y.values()])\n",
    "tensor_y = torch.stack([torch.Tensor(x) for x in Y.values()])\n",
    "\n",
    "dataset_train = utils.TensorDataset(tensor_x,tensor_y)\n",
    "dataloader_train = utils.DataLoader(dataset_train, batch_size=batch_size)"
   ]
  },
  {
   "cell_type": "code",
   "execution_count": 3,
   "metadata": {},
   "outputs": [
    {
     "name": "stdout",
     "output_type": "stream",
     "text": [
      "Input: torch.Size([40, 3, 76, 76])\n",
      "Label: torch.Size([40, 3, 76, 76])\n",
      "num_classes: 3\n"
     ]
    }
   ],
   "source": [
    "print('Input:',tensor_x.shape)\n",
    "print('Label:',tensor_y.shape)\n",
    "num_classes = tensor_y.shape[1]\n",
    "print('num_classes:', num_classes)"
   ]
  },
  {
   "cell_type": "code",
   "execution_count": 4,
   "metadata": {},
   "outputs": [],
   "source": [
    "class CrossEntropyLoss2d(nn.Module):\n",
    "    def __init__(self, weight=None, size_average=True):\n",
    "        super(CrossEntropyLoss2d, self).__init__()\n",
    "        self.nll_loss = nn.NLLLoss2d(weight, size_average)\n",
    "\n",
    "    def forward(self, inputs, targets):\n",
    "        return self.nll_loss(F.log_softmax(inputs), targets)"
   ]
  },
  {
   "cell_type": "markdown",
   "metadata": {},
   "source": [
    "#### Define Model"
   ]
  },
  {
   "cell_type": "code",
   "execution_count": null,
   "metadata": {},
   "outputs": [],
   "source": [
    "# Input 76x76 output 16x16\n",
    "class AtrousSeg(nn.Module):\n",
    "    def __init__(self, num_classes=1, num_channels=8):\n",
    "        super().__init__()\n",
    "        self.model = nn.Sequential(    \n",
    "            nn.Conv2d(num_channels, 64, kernel_size=3, stride=1, padding=1, dilation = 1), # Front           \n",
    "            nn.ReLU(),\n",
    "            nn.BatchNorm2d(64),\n",
    "            nn.Conv2d(64, 64, kernel_size=3, stride=1, padding=1, dilation = 1),\n",
    "            nn.ReLU(),\n",
    "            nn.BatchNorm2d(64),\n",
    "            nn.Conv2d(64, 128, kernel_size=3, stride=1, padding=0, dilation = 2),            \n",
    "            nn.ReLU(),\n",
    "            nn.BatchNorm2d(128),\n",
    "            nn.Conv2d(128, 128, kernel_size=3, stride=1, padding=0, dilation = 2),\n",
    "            nn.ReLU(),\n",
    "            nn.BatchNorm2d(128),\n",
    "            nn.Conv2d(128, 256, kernel_size=3, stride=1, padding=0, dilation = 3),\n",
    "            nn.ReLU(),\n",
    "            nn.BatchNorm2d(256),\n",
    "            nn.Conv2d(256, 256, kernel_size=3, stride=1, padding=0, dilation = 3),\n",
    "            nn.ReLU(),\n",
    "            nn.BatchNorm2d(256),\n",
    "            nn.Conv2d(256, 256, kernel_size=3, stride=1, padding=0, dilation = 3),            \n",
    "            nn.ReLU(),\n",
    "            nn.BatchNorm2d(256),\n",
    "            \n",
    "            nn.Conv2d(256, 256, kernel_size=3, stride=1, padding=0, dilation = 3), #LFE\n",
    "            nn.ReLU(),\n",
    "            nn.BatchNorm2d(256),\n",
    "            nn.Conv2d(256, 256, kernel_size=3, stride=1, padding=1, dilation = 3), \n",
    "            nn.ReLU(),\n",
    "            nn.BatchNorm2d(256),\n",
    "            nn.Conv2d(256, 256, kernel_size=3, stride=1, padding=1, dilation = 3), \n",
    "            nn.ReLU(),\n",
    "            nn.BatchNorm2d(256),\n",
    "            nn.Conv2d(256, 256, kernel_size=3, stride=1, padding=1, dilation = 2), \n",
    "            nn.ReLU(),\n",
    "            nn.BatchNorm2d(256),\n",
    "            nn.Conv2d(256, 256, kernel_size=3, stride=1, padding=1, dilation = 2), \n",
    "            nn.ReLU(),\n",
    "            nn.BatchNorm2d(256),\n",
    "            nn.Conv2d(256, 256, kernel_size=3, stride=1, padding=1, dilation = 1), \n",
    "            nn.ReLU(),\n",
    "            nn.BatchNorm2d(256),\n",
    "            nn.Conv2d(256, 256, kernel_size=3, stride=1, padding=1, dilation = 1),             \n",
    "            nn.ReLU(),\n",
    "            nn.BatchNorm2d(256),\n",
    "            \n",
    "            nn.Conv2d(256, 1024, kernel_size=7, stride=1, padding=1, dilation = 3), # Head (44x44)\n",
    "            nn.ReLU(),\n",
    "            nn.BatchNorm2d(1024),\n",
    "            nn.Conv2d(1024, 1024, kernel_size=1, stride=1, dilation = 1), \n",
    "            nn.ReLU(),\n",
    "            nn.BatchNorm2d(1024),\n",
    "            nn.Conv2d(1024, num_classes, kernel_size=1, stride=1, dilation = 1),    \n",
    "            nn.UpsamplingBilinear2d(size=(76, 76)),\n",
    "        )\n",
    "        # Initialize Weights\n",
    "        for m in self.model:\n",
    "            if isinstance(m, nn.Linear):\n",
    "                nn.init.kaiming_normal_(m.weight)\n",
    "                nn.init.constant_(m.bias, 0)\n",
    "            if isinstance(m, nn.Conv2d):\n",
    "                nn.init.kaiming_normal_(m.weight, mode='fan_out', nonlinearity='relu')\n",
    "\n",
    "    def forward(self, x):        \n",
    "        return self.model(x)"
   ]
  },
  {
   "cell_type": "code",
   "execution_count": null,
   "metadata": {},
   "outputs": [],
   "source": [
    "model = AtrousSeg(num_classes=num_classes, num_channels=tensor_x.shape[1])\n",
    "#resp = model(torch.rand(1, 8, 76, 76))"
   ]
  },
  {
   "cell_type": "code",
   "execution_count": null,
   "metadata": {},
   "outputs": [],
   "source": [
    "writer = SummaryWriter('./logs')\n",
    "dummy_x = torch.rand(1, tensor_x.shape[1], 76, 76)\n",
    "writer.add_graph(model, dummy_x)"
   ]
  },
  {
   "cell_type": "code",
   "execution_count": null,
   "metadata": {},
   "outputs": [],
   "source": [
    "model.to(device)"
   ]
  },
  {
   "cell_type": "code",
   "execution_count": null,
   "metadata": {},
   "outputs": [],
   "source": [
    "#loss_fn = nn.CrossEntropyLoss()\n",
    "#loss_fn = CrossEntropyLoss2d()\n",
    "loss_fn = nn.MSELoss()\n",
    "#loss_fn = nn.SmoothL1Loss()\n",
    "optimizer = torch.optim.Adam(model.parameters(), lr=lr, weight_decay=l2_norm)\n",
    "exp_lr_scheduler = lr_scheduler.StepLR(optimizer, step_size=step_size, gamma=gamma)"
   ]
  },
  {
   "cell_type": "markdown",
   "metadata": {},
   "source": [
    "#### Train Model"
   ]
  },
  {
   "cell_type": "code",
   "execution_count": null,
   "metadata": {},
   "outputs": [],
   "source": [
    "iteration_count = 0\n",
    "# For all epochs\n",
    "for epoch in range(num_epochs):\n",
    "    # Train step\n",
    "    model.train()    \n",
    "    # For all elements on the training set\n",
    "    for i, (imgs, labels) in enumerate(dataloader_train):\n",
    "        # Send inputs/labels to GPU                \n",
    "        labels = labels.to(device)\n",
    "        imgs = imgs.to(device)                \n",
    "        \n",
    "        optimizer.zero_grad()\n",
    "        \n",
    "        outputs = model(imgs)\n",
    "        \n",
    "        loss = loss_fn(outputs, labels)        \n",
    "        \n",
    "        loss.backward()\n",
    "        optimizer.step()\n",
    "        exp_lr_scheduler.step(epoch)\n",
    "        writer.add_scalar('loss/', loss.item(), iteration_count)        \n",
    "        iteration_count+=1        \n",
    "    print('Epoch:', epoch, 'of:', num_epochs, 'loss:', loss.item())\n",
    "    # Send to tensorboard loss\n",
    "    #writer.add_image('Image', imgs[:, 4, :, :].permute(0, 2, 1).unsqueeze(1), epoch)\n",
    "    #writer.add_image('Image', imgs[:, 4, :, :].type(torch.LongTensor), epoch)\n",
    "    #writer.add_image('Output', outputs[:, 0, :, :].type(torch.LongTensor), epoch)\n",
    "    \n",
    "    img_idx = randint(0, batch_size-1)    \n",
    "    f, axarr = plt.subplots(1, 7, figsize=(15,15))\n",
    "    axarr[0].imshow(np.moveaxis(imgs[img_idx,:,:,:].cpu().numpy(), 0, 2)) #4 With 8 channels\n",
    "    axarr[1].imshow(outputs[img_idx,0,:,:].detach().cpu())\n",
    "    axarr[2].imshow(outputs[img_idx,1,:,:].detach().cpu())\n",
    "    axarr[3].imshow(outputs[img_idx,2,:,:].detach().cpu())\n",
    "    axarr[4].imshow(labels[img_idx,0,:,:].cpu())\n",
    "    axarr[5].imshow(labels[img_idx,1,:,:].cpu())\n",
    "    axarr[6].imshow(labels[img_idx,2,:,:].cpu())\n",
    "    plt.show()\n",
    "    "
   ]
  },
  {
   "cell_type": "markdown",
   "metadata": {},
   "source": [
    "#### Test Model"
   ]
  },
  {
   "cell_type": "code",
   "execution_count": null,
   "metadata": {},
   "outputs": [],
   "source": [
    "@interact(idx_img=widgets.IntSlider(min=0,max=tensor_x.shape[0]-1))\n",
    "def testModel(idx_img):\n",
    "    model.eval()\n",
    "    with torch.no_grad():\n",
    "        img = tensor_x[idx_img].unsqueeze(0).to(device)\n",
    "        pred = model(img)\n",
    "        \n",
    "    img_numpy = img.cpu().squeeze().numpy()\n",
    "    pred_numpy = pred.cpu().squeeze().numpy()\n",
    "    label_numpy = tensor_y[idx_img].squeeze().numpy()\n",
    "    \n",
    "    # Very very Naive way to threshold (We should use Gan here!)\n",
    "    threshold = (np.max(pred_numpy[0,:,:]) - np.min(pred_numpy[0,:,:])) / 2\n",
    "    \n",
    "    # Merge Mask and Border\n",
    "    mask_border = pred_numpy[0,:,:] - pred_numpy[2,:,:]\n",
    "    \n",
    "    f, axarr = plt.subplots(1, 5, figsize=(15,15))\n",
    "    axarr[0].imshow(img_numpy[0,:,:]) #4 With 8 channels\n",
    "    axarr[0].title.set_text('Original')\n",
    "    axarr[1].imshow(pred_numpy[0,:,:])\n",
    "    axarr[1].title.set_text('Prediction Mask')\n",
    "    axarr[2].imshow(pred_numpy[2,:,:])\n",
    "    axarr[2].title.set_text('Prediction Border')\n",
    "    axarr[3].imshow(mask_border)\n",
    "    axarr[3].title.set_text('Subtracted')\n",
    "    axarr[4].imshow(label_numpy[0,:,:])\n",
    "    axarr[4].title.set_text('Label')"
   ]
  },
  {
   "cell_type": "code",
   "execution_count": null,
   "metadata": {},
   "outputs": [],
   "source": []
  }
 ],
 "metadata": {
  "kernelspec": {
   "display_name": "Python 3",
   "language": "python",
   "name": "python3"
  },
  "language_info": {
   "codemirror_mode": {
    "name": "ipython",
    "version": 3
   },
   "file_extension": ".py",
   "mimetype": "text/x-python",
   "name": "python",
   "nbconvert_exporter": "python",
   "pygments_lexer": "ipython3",
   "version": "3.7.3"
  }
 },
 "nbformat": 4,
 "nbformat_minor": 2
}
