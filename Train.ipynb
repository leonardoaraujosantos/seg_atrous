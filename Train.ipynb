{
 "cells": [
  {
   "cell_type": "markdown",
   "metadata": {},
   "source": [
    "# Train Segmentation with Atrous Convolution\n",
    "\n",
    "\n",
    "#### References\n",
    "* https://arxiv.org/pdf/1709.00179.pdf\n",
    "* https://medium.com/beyondminds/a-simple-guide-to-semantic-segmentation-effcf83e7e54\n",
    "* https://medium.com/dair-ai/medical-imaging-analysis-mri-cnn-pytorch-4877e64e7303\n",
    "* https://medium.com/udacity-pytorch-challengers/a-brief-overview-of-loss-functions-in-pytorch-c0ddb78068f7\n",
    "* https://github.com/kevinzakka/pytorch-goodies/blob/master/losses.py"
   ]
  },
  {
   "cell_type": "code",
   "execution_count": 1,
   "metadata": {},
   "outputs": [
    {
     "name": "stdout",
     "output_type": "stream",
     "text": [
      "Device: cuda:0\n"
     ]
    }
   ],
   "source": [
    "import sat_utils\n",
    "import numpy as np\n",
    "import pickle\n",
    "#from ipywidgets import interact, interactive, fixed, interact_manual\n",
    "#import ipywidgets as widgets\n",
    "#from tqdm import tqdm\n",
    "from sklearn.model_selection import train_test_split\n",
    "import matplotlib.pyplot as plt\n",
    "from random import randint\n",
    "\n",
    "# Pytorch stuff\n",
    "import torch.nn as nn\n",
    "import torch.nn.functional as F\n",
    "import numpy as np\n",
    "import torch\n",
    "import torch.utils.data as utils\n",
    "from torchvision.utils import make_grid\n",
    "#from torch.utils.tensorboard import SummaryWriter\n",
    "from tensorboardX import SummaryWriter\n",
    "\n",
    "from torch.optim import lr_scheduler\n",
    "\n",
    "from skimage.filters import threshold_adaptive, threshold_otsu, threshold_local\n",
    "\n",
    "device = torch.device('cuda:0' if torch.cuda.is_available() else 'cpu')\n",
    "print('Device:', device)\n",
    "\n",
    "lr=0.001 #0.001\n",
    "l2_norm=0.0000001\n",
    "gamma=0.1\n",
    "batch_size = 20 #20\n",
    "num_epochs = 1000\n",
    "step_size = 200"
   ]
  },
  {
   "cell_type": "markdown",
   "metadata": {},
   "source": [
    "#### Load Data from pickle (Bad not scalable) and create data loader"
   ]
  },
  {
   "cell_type": "code",
   "execution_count": 2,
   "metadata": {},
   "outputs": [],
   "source": [
    "X = sat_utils.read_pickle_data('./data/input.pickle')\n",
    "Y = sat_utils.read_pickle_data('./data/label.pickle')\n",
    "tensor_x = torch.stack([torch.Tensor(sat_utils.get_rgb(x)) for x in X.values()])\n",
    "#tensor_y = torch.stack([torch.Tensor(np.expand_dims(x[0,:,:],axis=0)).type(torch.LongTensor) for x in Y.values()])\n",
    "tensor_y = torch.stack([torch.Tensor(np.expand_dims(x[0,:,:],axis=0)) for x in Y.values()])\n",
    "\n",
    "dataset_train = utils.TensorDataset(tensor_x,tensor_y)\n",
    "dataloader_train = utils.DataLoader(dataset_train, batch_size=batch_size)"
   ]
  },
  {
   "cell_type": "code",
   "execution_count": 3,
   "metadata": {},
   "outputs": [
    {
     "name": "stdout",
     "output_type": "stream",
     "text": [
      "Input: torch.Size([40, 3, 76, 76])\n",
      "Label: torch.Size([40, 1, 76, 76])\n"
     ]
    }
   ],
   "source": [
    "print('Input:',tensor_x.shape)\n",
    "print('Label:',tensor_y.shape)"
   ]
  },
  {
   "cell_type": "code",
   "execution_count": 4,
   "metadata": {},
   "outputs": [],
   "source": [
    "class CrossEntropyLoss2d(nn.Module):\n",
    "    def __init__(self, weight=None, size_average=True):\n",
    "        super(CrossEntropyLoss2d, self).__init__()\n",
    "        self.nll_loss = nn.NLLLoss2d(weight, size_average)\n",
    "\n",
    "    def forward(self, inputs, targets):\n",
    "        return self.nll_loss(F.log_softmax(inputs), targets)\n",
    "    \n",
    "class LossBinaryISB:\n",
    "\n",
    "    def __init__(self, jaccard_weight=0):\n",
    "        self.nll_loss = nn.BCEWithLogitsLoss()\n",
    "        self.jaccard_weight = jaccard_weight\n",
    "\n",
    "\n",
    "    def __call__(self, outputs, targets):\n",
    "        loss = (1 - self.jaccard_weight) * self.nll_loss(outputs, targets)\n",
    "\n",
    "        if self.jaccard_weight:\n",
    "            eps = 1e-15\n",
    "            jaccard_target = (targets == 1).float()\n",
    "            jaccard_output = F.sigmoid(outputs)\n",
    "\n",
    "            intersection = (jaccard_output * jaccard_target).sum()\n",
    "            union = jaccard_output.sum() + jaccard_target.sum()\n",
    "\n",
    "            loss = self.jaccard_weight *loss+ (1-self.jaccard_weight)*(1-(intersection + eps) / (union - intersection + eps))\n",
    "        return loss\n"
   ]
  },
  {
   "cell_type": "markdown",
   "metadata": {},
   "source": [
    "#### Define Model"
   ]
  },
  {
   "cell_type": "code",
   "execution_count": null,
   "metadata": {},
   "outputs": [],
   "source": [
    "# Input 76x76 output 16x16\n",
    "class AtrousSeg(nn.Module):\n",
    "    def __init__(self, num_classes=1, num_channels=8):\n",
    "        super().__init__()\n",
    "        self.model = nn.Sequential(    \n",
    "            nn.Conv2d(num_channels, 64, kernel_size=3, stride=1, padding=1, dilation = 1), # Front           \n",
    "            nn.ReLU(),\n",
    "            nn.BatchNorm2d(64),\n",
    "            nn.Conv2d(64, 64, kernel_size=3, stride=1, padding=1, dilation = 1),\n",
    "            nn.ReLU(),\n",
    "            nn.BatchNorm2d(64),\n",
    "            nn.Conv2d(64, 128, kernel_size=3, stride=1, padding=0, dilation = 2),            \n",
    "            nn.ReLU(),\n",
    "            nn.BatchNorm2d(128),\n",
    "            nn.Conv2d(128, 128, kernel_size=3, stride=1, padding=0, dilation = 2),\n",
    "            nn.ReLU(),\n",
    "            nn.BatchNorm2d(128),\n",
    "            nn.Conv2d(128, 256, kernel_size=3, stride=1, padding=0, dilation = 3),\n",
    "            nn.ReLU(),\n",
    "            nn.BatchNorm2d(256),\n",
    "            nn.Conv2d(256, 256, kernel_size=3, stride=1, padding=0, dilation = 3),\n",
    "            nn.ReLU(),\n",
    "            nn.BatchNorm2d(256),\n",
    "            nn.Conv2d(256, 256, kernel_size=3, stride=1, padding=0, dilation = 3),            \n",
    "            nn.ReLU(),\n",
    "            nn.BatchNorm2d(256),\n",
    "            \n",
    "            nn.Conv2d(256, 256, kernel_size=3, stride=1, padding=0, dilation = 3), #LFE\n",
    "            nn.ReLU(),\n",
    "            nn.BatchNorm2d(256),\n",
    "            nn.Conv2d(256, 256, kernel_size=3, stride=1, padding=1, dilation = 3), \n",
    "            nn.ReLU(),\n",
    "            nn.BatchNorm2d(256),\n",
    "            nn.Conv2d(256, 256, kernel_size=3, stride=1, padding=1, dilation = 3), \n",
    "            nn.ReLU(),\n",
    "            nn.BatchNorm2d(256),\n",
    "            nn.Conv2d(256, 256, kernel_size=3, stride=1, padding=1, dilation = 2), \n",
    "            nn.ReLU(),\n",
    "            nn.BatchNorm2d(256),\n",
    "            nn.Conv2d(256, 256, kernel_size=3, stride=1, padding=1, dilation = 2), \n",
    "            nn.ReLU(),\n",
    "            nn.BatchNorm2d(256),\n",
    "            nn.Conv2d(256, 256, kernel_size=3, stride=1, padding=1, dilation = 1), \n",
    "            nn.ReLU(),\n",
    "            nn.BatchNorm2d(256),\n",
    "            nn.Conv2d(256, 256, kernel_size=3, stride=1, padding=1, dilation = 1),             \n",
    "            nn.ReLU(),\n",
    "            nn.BatchNorm2d(256),\n",
    "            \n",
    "            nn.Conv2d(256, 1024, kernel_size=7, stride=1, padding=1, dilation = 3), # Head (44x44)\n",
    "            nn.ReLU(),\n",
    "            nn.BatchNorm2d(1024),\n",
    "            nn.Conv2d(1024, 1024, kernel_size=1, stride=1, dilation = 1), \n",
    "            nn.ReLU(),\n",
    "            nn.BatchNorm2d(1024),\n",
    "            nn.Conv2d(1024, num_classes, kernel_size=1, stride=1, dilation = 1),    \n",
    "            nn.UpsamplingBilinear2d(size=(76, 76)),\n",
    "        )\n",
    "        # Initialize Weights\n",
    "        for m in self.model:\n",
    "            if isinstance(m, nn.Linear):\n",
    "                nn.init.kaiming_normal_(m.weight)\n",
    "                nn.init.constant_(m.bias, 0)\n",
    "            if isinstance(m, nn.Conv2d):\n",
    "                nn.init.kaiming_normal_(m.weight, mode='fan_out', nonlinearity='relu')\n",
    "\n",
    "    def forward(self, x):        \n",
    "        return self.model(x)"
   ]
  },
  {
   "cell_type": "code",
   "execution_count": null,
   "metadata": {},
   "outputs": [],
   "source": [
    "model = AtrousSeg(num_classes=1, num_channels=tensor_x.shape[1])\n",
    "#resp = model(torch.rand(1, 8, 76, 76))"
   ]
  },
  {
   "cell_type": "code",
   "execution_count": null,
   "metadata": {},
   "outputs": [
    {
     "name": "stderr",
     "output_type": "stream",
     "text": [
      "/home/giotza01/.local/lib/python3.6/site-packages/torch/nn/modules/upsampling.py:129: UserWarning: nn.UpsamplingBilinear2d is deprecated. Use nn.functional.interpolate instead.\n",
      "  warnings.warn(\"nn.{} is deprecated. Use nn.functional.interpolate instead.\".format(self.name))\n",
      "/home/giotza01/.local/lib/python3.6/site-packages/torch/onnx/symbolic.py:131: UserWarning: ONNX export failed on upsample_bilinear2d because align_corners == True not supported\n",
      "  warnings.warn(\"ONNX export failed on \" + op + \" because \" + msg + \" not supported\")\n"
     ]
    }
   ],
   "source": [
    "writer = SummaryWriter('./logs')\n",
    "dummy_x = torch.rand(1, tensor_x.shape[1], 76, 76)\n",
    "writer.add_graph(model, dummy_x)"
   ]
  },
  {
   "cell_type": "code",
   "execution_count": null,
   "metadata": {},
   "outputs": [
    {
     "data": {
      "text/plain": [
       "AtrousSeg(\n",
       "  (model): Sequential(\n",
       "    (0): Conv2d(3, 64, kernel_size=(3, 3), stride=(1, 1), padding=(1, 1))\n",
       "    (1): ReLU()\n",
       "    (2): BatchNorm2d(64, eps=1e-05, momentum=0.1, affine=True, track_running_stats=True)\n",
       "    (3): Conv2d(64, 64, kernel_size=(3, 3), stride=(1, 1), padding=(1, 1))\n",
       "    (4): ReLU()\n",
       "    (5): BatchNorm2d(64, eps=1e-05, momentum=0.1, affine=True, track_running_stats=True)\n",
       "    (6): Conv2d(64, 128, kernel_size=(3, 3), stride=(1, 1), dilation=(2, 2))\n",
       "    (7): ReLU()\n",
       "    (8): BatchNorm2d(128, eps=1e-05, momentum=0.1, affine=True, track_running_stats=True)\n",
       "    (9): Conv2d(128, 128, kernel_size=(3, 3), stride=(1, 1), dilation=(2, 2))\n",
       "    (10): ReLU()\n",
       "    (11): BatchNorm2d(128, eps=1e-05, momentum=0.1, affine=True, track_running_stats=True)\n",
       "    (12): Conv2d(128, 256, kernel_size=(3, 3), stride=(1, 1), dilation=(3, 3))\n",
       "    (13): ReLU()\n",
       "    (14): BatchNorm2d(256, eps=1e-05, momentum=0.1, affine=True, track_running_stats=True)\n",
       "    (15): Conv2d(256, 256, kernel_size=(3, 3), stride=(1, 1), dilation=(3, 3))\n",
       "    (16): ReLU()\n",
       "    (17): BatchNorm2d(256, eps=1e-05, momentum=0.1, affine=True, track_running_stats=True)\n",
       "    (18): Conv2d(256, 256, kernel_size=(3, 3), stride=(1, 1), dilation=(3, 3))\n",
       "    (19): ReLU()\n",
       "    (20): BatchNorm2d(256, eps=1e-05, momentum=0.1, affine=True, track_running_stats=True)\n",
       "    (21): Conv2d(256, 256, kernel_size=(3, 3), stride=(1, 1), dilation=(3, 3))\n",
       "    (22): ReLU()\n",
       "    (23): BatchNorm2d(256, eps=1e-05, momentum=0.1, affine=True, track_running_stats=True)\n",
       "    (24): Conv2d(256, 256, kernel_size=(3, 3), stride=(1, 1), padding=(1, 1), dilation=(3, 3))\n",
       "    (25): ReLU()\n",
       "    (26): BatchNorm2d(256, eps=1e-05, momentum=0.1, affine=True, track_running_stats=True)\n",
       "    (27): Conv2d(256, 256, kernel_size=(3, 3), stride=(1, 1), padding=(1, 1), dilation=(3, 3))\n",
       "    (28): ReLU()\n",
       "    (29): BatchNorm2d(256, eps=1e-05, momentum=0.1, affine=True, track_running_stats=True)\n",
       "    (30): Conv2d(256, 256, kernel_size=(3, 3), stride=(1, 1), padding=(1, 1), dilation=(2, 2))\n",
       "    (31): ReLU()\n",
       "    (32): BatchNorm2d(256, eps=1e-05, momentum=0.1, affine=True, track_running_stats=True)\n",
       "    (33): Conv2d(256, 256, kernel_size=(3, 3), stride=(1, 1), padding=(1, 1), dilation=(2, 2))\n",
       "    (34): ReLU()\n",
       "    (35): BatchNorm2d(256, eps=1e-05, momentum=0.1, affine=True, track_running_stats=True)\n",
       "    (36): Conv2d(256, 256, kernel_size=(3, 3), stride=(1, 1), padding=(1, 1))\n",
       "    (37): ReLU()\n",
       "    (38): BatchNorm2d(256, eps=1e-05, momentum=0.1, affine=True, track_running_stats=True)\n",
       "    (39): Conv2d(256, 256, kernel_size=(3, 3), stride=(1, 1), padding=(1, 1))\n",
       "    (40): ReLU()\n",
       "    (41): BatchNorm2d(256, eps=1e-05, momentum=0.1, affine=True, track_running_stats=True)\n",
       "    (42): Conv2d(256, 1024, kernel_size=(7, 7), stride=(1, 1), padding=(1, 1), dilation=(3, 3))\n",
       "    (43): ReLU()\n",
       "    (44): BatchNorm2d(1024, eps=1e-05, momentum=0.1, affine=True, track_running_stats=True)\n",
       "    (45): Conv2d(1024, 1024, kernel_size=(1, 1), stride=(1, 1))\n",
       "    (46): ReLU()\n",
       "    (47): BatchNorm2d(1024, eps=1e-05, momentum=0.1, affine=True, track_running_stats=True)\n",
       "    (48): Conv2d(1024, 1, kernel_size=(1, 1), stride=(1, 1))\n",
       "    (49): UpsamplingBilinear2d(size=(76, 76), mode=bilinear)\n",
       "  )\n",
       ")"
      ]
     },
     "execution_count": 8,
     "metadata": {},
     "output_type": "execute_result"
    }
   ],
   "source": [
    "model.to(device)"
   ]
  },
  {
   "cell_type": "code",
   "execution_count": null,
   "metadata": {},
   "outputs": [],
   "source": [
    "#loss_fn = nn.CrossEntropyLoss()\n",
    "#loss_fn = CrossEntropyLoss2d()\n",
    "#loss_fn = nn.MSELoss()\n",
    "loss_fn = LossBinaryISB(jaccard_weight=0.7)\n",
    "\n",
    "#loss_fn = nn.SmoothL1Loss()\n",
    "optimizer = torch.optim.Adam(model.parameters(), lr=lr, weight_decay=l2_norm)\n",
    "exp_lr_scheduler = lr_scheduler.StepLR(optimizer, step_size=step_size, gamma=gamma)"
   ]
  },
  {
   "cell_type": "markdown",
   "metadata": {},
   "source": [
    "#### Train Model"
   ]
  },
  {
   "cell_type": "code",
   "execution_count": null,
   "metadata": {},
   "outputs": [
    {
     "name": "stderr",
     "output_type": "stream",
     "text": [
      "/home/giotza01/.local/lib/python3.6/site-packages/torch/nn/functional.py:1332: UserWarning: nn.functional.sigmoid is deprecated. Use torch.sigmoid instead.\n",
      "  warnings.warn(\"nn.functional.sigmoid is deprecated. Use torch.sigmoid instead.\")\n"
     ]
    },
    {
     "name": "stdout",
     "output_type": "stream",
     "text": [
      "Epoch: 0 of: 1000 loss: -441.4183044433594\n"
     ]
    },
    {
     "data": {
      "image/png": "[encoded data removed]",
      "text/plain": [
       "<Figure size 432x288 with 3 Axes>"
      ]
     },
     "metadata": {
      "needs_background": "light"
     },
     "output_type": "display_data"
    },
    {
     "name": "stdout",
     "output_type": "stream",
     "text": [
      "Epoch: 1 of: 1000 loss: -3798.6416015625\n",
      "Epoch: 2 of: 1000 loss: -5362.3056640625\n",
      "Epoch: 3 of: 1000 loss: -5081.20751953125\n",
      "Epoch: 4 of: 1000 loss: -6757.07958984375\n",
      "Epoch: 5 of: 1000 loss: -7369.6376953125\n",
      "Epoch: 6 of: 1000 loss: -7881.0693359375\n",
      "Epoch: 7 of: 1000 loss: -8266.2958984375\n",
      "Epoch: 8 of: 1000 loss: -8601.623046875\n",
      "Epoch: 9 of: 1000 loss: -9131.5400390625\n",
      "Epoch: 10 of: 1000 loss: -9605.6943359375\n",
      "Epoch: 11 of: 1000 loss: -9759.998046875\n",
      "Epoch: 12 of: 1000 loss: -10385.677734375\n",
      "Epoch: 13 of: 1000 loss: -10642.482421875\n",
      "Epoch: 14 of: 1000 loss: -11087.775390625\n",
      "Epoch: 15 of: 1000 loss: -11368.5556640625\n",
      "Epoch: 16 of: 1000 loss: -11545.0322265625\n",
      "Epoch: 17 of: 1000 loss: -12175.904296875\n",
      "Epoch: 18 of: 1000 loss: -12349.4541015625\n",
      "Epoch: 19 of: 1000 loss: -12966.1044921875\n",
      "Epoch: 20 of: 1000 loss: -13237.3046875\n"
     ]
    },
    {
     "data": {
      "image/png": "[encoded data removed]",
      "text/plain": [
       "<Figure size 432x288 with 3 Axes>"
      ]
     },
     "metadata": {
      "needs_background": "light"
     },
     "output_type": "display_data"
    }
   ],
   "source": [
    "iteration_count = 0\n",
    "# For all epochs\n",
    "for epoch in range(num_epochs):\n",
    "    # Train step\n",
    "    model.train()    \n",
    "    # For all elements on the training set\n",
    "    for i, (imgs, labels) in enumerate(dataloader_train):\n",
    "        # Send inputs/labels to GPU                \n",
    "        labels = labels.to(device)\n",
    "        imgs = imgs.to(device)                \n",
    "        \n",
    "        optimizer.zero_grad()\n",
    "        \n",
    "        outputs = model(imgs)\n",
    "        \n",
    "        loss = loss_fn(outputs, labels)        \n",
    "        \n",
    "        loss.backward()\n",
    "        optimizer.step()\n",
    "        exp_lr_scheduler.step(epoch)\n",
    "        writer.add_scalar('loss/', loss.item(), iteration_count)        \n",
    "        iteration_count+=1        \n",
    "    print('Epoch:', epoch, 'of:', num_epochs, 'loss:', loss.item())\n",
    "    # Send to tensorboard loss\n",
    "    #writer.add_image('Image', imgs[:, 4, :, :].permute(0, 2, 1).unsqueeze(1), epoch)\n",
    "    #writer.add_image('Image', imgs[:, 4, :, :].type(torch.LongTensor), epoch)\n",
    "    #writer.add_image('Output', outputs[:, 0, :, :].type(torch.LongTensor), epoch)\n",
    "    \n",
    "    if epoch%20==0:\n",
    "        img_idx = randint(0, batch_size-1)    \n",
    "        f, axarr = plt.subplots(1, 3)\n",
    "        axarr[0].imshow(imgs[img_idx,0,:,:].cpu()) #4 With 8 channels\n",
    "        axarr[1].imshow(outputs[img_idx,0,:,:].detach().cpu())\n",
    "        axarr[2].imshow(labels[img_idx,0,:,:].cpu())    \n",
    "        plt.show()\n",
    "    "
   ]
  },
  {
   "cell_type": "markdown",
   "metadata": {},
   "source": [
    "#### Test Model"
   ]
  },
  {
   "cell_type": "code",
   "execution_count": null,
   "metadata": {},
   "outputs": [],
   "source": [
    "@interact(idx_img=widgets.IntSlider(min=0,max=tensor_x.shape[0]-1))\n",
    "def testModel(idx_img):\n",
    "    model.eval()\n",
    "    with torch.no_grad():\n",
    "        img = tensor_x[idx_img].unsqueeze(0).to(device)\n",
    "        pred = model(img)\n",
    "        \n",
    "    img_numpy = img.cpu().squeeze().numpy()\n",
    "    pred_numpy = pred.cpu().squeeze().numpy()\n",
    "    label_numpy = tensor_y[idx_img].squeeze().numpy()\n",
    "    \n",
    "    # Very very Naive way to threshold (We should use Gan here!)\n",
    "    threshold = (np.max(pred_numpy) - np.min(pred_numpy)) / 2\n",
    "    \n",
    "    # Adaptive threshold also don't work because we need to fix a block size constant\n",
    "    block_size=81\n",
    "    bin_adaptive = threshold_adaptive(pred_numpy, block_size=block_size, method='gaussian');\n",
    "    \n",
    "    f, axarr = plt.subplots(1, 5, figsize=(15,15))\n",
    "    axarr[0].imshow(img_numpy[0,:,:]) #4 With 8 channels\n",
    "    axarr[0].title.set_text('Original')\n",
    "    axarr[1].imshow(pred_numpy)\n",
    "    axarr[1].title.set_text('Prediction')\n",
    "    axarr[2].imshow(pred_numpy>(threshold))\n",
    "    axarr[2].title.set_text('Threshold')\n",
    "    axarr[3].imshow(label_numpy)\n",
    "    axarr[3].title.set_text('Label')\n",
    "    axarr[4].imshow(bin_adaptive)\n",
    "    axarr[4].title.set_text('Adaptive')"
   ]
  }
 ],
 "metadata": {
  "kernelspec": {
   "display_name": "Python 3",
   "language": "python",
   "name": "python3"
  },
  "language_info": {
   "codemirror_mode": {
    "name": "ipython",
    "version": 3
   },
   "file_extension": ".py",
   "mimetype": "text/x-python",
   "name": "python",
   "nbconvert_exporter": "python",
   "pygments_lexer": "ipython3",
   "version": "3.6.6"
  }
 },
 "nbformat": 4,
 "nbformat_minor": 2
}
